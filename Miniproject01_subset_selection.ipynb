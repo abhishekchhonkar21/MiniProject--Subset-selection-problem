{
  "nbformat": 4,
  "nbformat_minor": 0,
  "metadata": {
    "colab": {
      "provenance": [],
      "authorship_tag": "ABX9TyN7IoE1Db0oI6yyzRXZb4KS",
      "include_colab_link": true
    },
    "kernelspec": {
      "name": "python3",
      "display_name": "Python 3"
    },
    "language_info": {
      "name": "python"
    }
  },
  "cells": [
    {
      "cell_type": "markdown",
      "metadata": {
        "id": "view-in-github",
        "colab_type": "text"
      },
      "source": [
        "<a href=\"https://colab.research.google.com/github/abhishekchhonkar21/MiniProject--Subset-selection-problem/blob/main/Miniproject01_subset_selection.ipynb\" target=\"_parent\"><img src=\"https://colab.research.google.com/assets/colab-badge.svg\" alt=\"Open In Colab\"/></a>"
      ]
    },
    {
      "cell_type": "markdown",
      "source": [
        "Problem Statement: Find all the subsets from a set of numbers whose sum is zero. Constraint: Subset size must be 5 Set={-12, -3, -6, 7, 2, -2, 6, 3, 9, -7, -5, -8, 1, 11, -9, -4}"
      ],
      "metadata": {
        "id": "ef0oa6gyxfA-"
      }
    },
    {
      "cell_type": "code",
      "execution_count": 1,
      "metadata": {
        "colab": {
          "base_uri": "https://localhost:8080/"
        },
        "id": "8HOiCIPQtzfq",
        "outputId": "4164885c-d05a-4f1c-a54e-6b1b88605292"
      },
      "outputs": [
        {
          "output_type": "stream",
          "name": "stdout",
          "text": [
            "(-3, -6, 1, 6, 2)\n",
            "(2, -2, 3, 9, -12)\n",
            "(7, -7, -3, 1, 2)\n",
            "(6, -4, 3, -2, -3)\n",
            "(3, 7, -2, 1, -9)\n",
            "(-4, 7, -12, 6, 3)\n",
            "(6, 11, -5, -3, -9)\n",
            "(-7, 1, 11, -2, -3)\n",
            "(-5, -8, -7, 9, 11)\n",
            "(11, -9, -4, 9, -7)\n",
            "(1, 3, 7, -8, -3)\n",
            "(3, -2, -5, -7, 11)\n",
            "(-4, -7, 6, 3, 2)\n",
            "(-2, 6, -4, 7, -7)\n",
            "(7, 2, -7, 1, -3)\n",
            "(6, 11, 2, -7, -12)\n",
            "(-7, -8, 11, -3, 7)\n",
            "(-3, -2, -7, 11, 1)\n",
            "(-4, 1, 6, 9, -12)\n",
            "(-2, 2, -6, 11, -5)\n",
            "(6, 7, -9, -7, 3)\n",
            "(11, -4, -8, -6, 7)\n",
            "(2, 9, 1, -8, -4)\n",
            "(-9, -7, 7, -2, 11)\n",
            "(9, 3, -12, 6, -6)\n",
            "(11, -2, 1, -12, 2)\n",
            "(-4, 11, -6, -3, 2)\n",
            "(1, 2, -2, -12, 11)\n",
            "(7, -8, -4, 2, 3)\n",
            "(11, 2, -2, -5, -6)\n",
            "\n",
            "Total Sets:  30\n"
          ]
        },
        {
          "output_type": "stream",
          "name": "stderr",
          "text": [
            "<ipython-input-1-863105f7322f>:23: DeprecationWarning: Sampling from a set deprecated\n",
            "since Python 3.9 and will be removed in a subsequent version.\n",
            "  Chromosome = r.sample(Set,SetSize)\n"
          ]
        }
      ],
      "source": [
        "#-------------------------------------------------------------\n",
        "# Step 1: Library inclusion                             \n",
        "#-------------------------------------------------------------\n",
        "import random as r\n",
        "\n",
        "\n",
        "#-------------------------------------------------------------\n",
        "# Step 2: Parameter Setting\n",
        "#-------------------------------------------------------------\n",
        "Set         = set([-12, -3, -6, 7, 2, -2, 6, 3, 9, -7, -5, -8, 1, 11, -9, -4])\n",
        "SetSize     = 5\n",
        "ResultList  = set()    # Store Result List i.e. list of sets whose sum is zero\n",
        "Iterations  = 1000   # Number of Inerations\n",
        "\n",
        "\n",
        "#-------------------------------------------------------------\n",
        "# Step3: Start Program\n",
        "#-------------------------------------------------------------\n",
        "\n",
        "# Loop till number of Iterations\n",
        "for i in range(Iterations):\n",
        "    # Select number of elements from Set\n",
        "    Chromosome = r.sample(Set,SetSize)\n",
        "\n",
        "    # Sum the number of elements in the Chromosome\n",
        "    if sum(Chromosome) == 0:\n",
        "        ResultList.add(tuple(Chromosome))\n",
        "\n",
        "# Print all the sets whose sum is zero\n",
        "for r in ResultList:\n",
        "\tprint (r)\n",
        "\n",
        "# Print total sets\n",
        "print (\"\\nTotal Sets: \", len(ResultList))"
      ]
    },
    {
      "cell_type": "markdown",
      "source": [
        "Problem Statement: Find all the subsets from a set of numbers whose sum is zero. Constraint: Subset size must be 3 to 6 only Set={-12, -3, -6, 7, 2, -2, 6, 3, 9, -7, -5, -8, 1, 11, -9, -4}"
      ],
      "metadata": {
        "id": "YO8A__eExnox"
      }
    },
    {
      "cell_type": "code",
      "source": [
        "#-------------------------------------------------------------\n",
        "# Step 1: Library inclusion                             \n",
        "#-------------------------------------------------------------\n",
        "import random as r\n",
        "\n",
        "\n",
        "#-------------------------------------------------------------\n",
        "# Step 2: Parameter Setting\n",
        "#-------------------------------------------------------------\n",
        "Set         = set([-12, -3, -6, 7, 2, -2, 6, 3, 9, -7, -5, -8, 1, 11, -9, -4])\n",
        "SetLB       = 3\n",
        "SetUB       = 6\n",
        "ResultList  = set()    # Store Result List i.e. list of sets whose sum is zero\n",
        "Iterations  = 1000   # Number of Inerations\n",
        "\n",
        "\n",
        "#-------------------------------------------------------------\n",
        "# Step3: Start Program\n",
        "#-------------------------------------------------------------\n",
        "\n",
        "# Loop till number of Iterations\n",
        "for i in range(Iterations):\n",
        "    # Select set size randomly\n",
        "    SetSize = r.randint(SetLB,SetUB)\n",
        "\t\n",
        "    # Select number of elements from Set\n",
        "    Chromosome = r.sample(Set,SetSize)\n",
        "    Chromosome.sort()\n",
        "\n",
        "    # Sum the number of elements in the Chromosome\n",
        "    if sum(Chromosome) == 0:\n",
        "        ResultList.add(tuple(Chromosome))\n",
        "\n",
        "# Print all the sets whose sum is zero\n",
        "for r in ResultList:\n",
        "\tprint (r)\n",
        " # Print total sets\n",
        "print (\"\\nTotal Sets: \", len(ResultList))"
      ],
      "metadata": {
        "colab": {
          "base_uri": "https://localhost:8080/"
        },
        "id": "ocuS04RFxO6R",
        "outputId": "41fbf151-125a-4750-bc9f-fecdae7b4945"
      },
      "execution_count": 2,
      "outputs": [
        {
          "output_type": "stream",
          "name": "stdout",
          "text": [
            "(-9, 2, 7)\n",
            "(-6, -5, 1, 3, 7)\n",
            "(-12, 1, 2, 9)\n",
            "(-9, -2, 1, 3, 7)\n",
            "(-5, -4, -3, 1, 11)\n",
            "(-8, -6, 3, 11)\n",
            "(-12, -3, -2, 6, 11)\n",
            "(-12, 3, 9)\n",
            "(-6, -2, 2, 6)\n",
            "(-6, -4, 1, 3, 6)\n",
            "(-7, -2, 9)\n",
            "(-8, -3, -2, 6, 7)\n",
            "(-9, -3, 1, 11)\n",
            "(-8, 1, 7)\n",
            "(-7, -6, -5, 3, 6, 9)\n",
            "(-4, -2, 6)\n",
            "(-12, -2, 1, 2, 11)\n",
            "(-5, -2, 7)\n",
            "(-9, -8, -2, 2, 6, 11)\n",
            "(-8, -7, -6, 1, 9, 11)\n",
            "(-9, -5, 1, 6, 7)\n",
            "(-8, -6, -5, 1, 7, 11)\n",
            "(-9, -8, 6, 11)\n",
            "(-7, -5, -2, 1, 2, 11)\n",
            "(-4, -3, 7)\n",
            "(-4, -3, 1, 6)\n",
            "(-6, -5, -2, 6, 7)\n",
            "(-7, -4, -3, 1, 2, 11)\n",
            "(-3, 1, 2)\n",
            "\n",
            "Total Sets:  29\n"
          ]
        },
        {
          "output_type": "stream",
          "name": "stderr",
          "text": [
            "<ipython-input-2-a9abd4f1feda>:27: DeprecationWarning: Sampling from a set deprecated\n",
            "since Python 3.9 and will be removed in a subsequent version.\n",
            "  Chromosome = r.sample(Set,SetSize)\n"
          ]
        }
      ]
    }
  ]
}